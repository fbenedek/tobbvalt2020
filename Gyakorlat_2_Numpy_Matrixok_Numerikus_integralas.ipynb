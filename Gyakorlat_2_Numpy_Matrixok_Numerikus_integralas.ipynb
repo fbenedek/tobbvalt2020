{
 "cells": [
  {
   "cell_type": "markdown",
   "metadata": {
    "colab_type": "text",
    "id": "j0pKeBn1kSyW"
   },
   "source": [
    "# Többváltozós analízis mérnöki alkalmazásai - 2. gyakorlat\n"
   ]
  },
  {
   "cell_type": "markdown",
   "metadata": {
    "colab_type": "text",
    "id": "fHdenOpDkSyg"
   },
   "source": [
    "## 1. feladat: Rendezés\n",
    "\n",
    "Valósítsátok meg a tetszőleges rendezési algoritmust Python nyelven! Írjatok egy függvényt, amely elvégzi az algoritmust egy számokat tartalmazó listán, majd futtassátok le tesztként a [3,2,1,1,8,5,16] számsoron!\n"
   ]
  },
  {
   "cell_type": "markdown",
   "metadata": {
    "colab_type": "text",
    "id": "Fm_yzJmykSyl"
   },
   "source": [
    "![kep1](https://i.imgur.com/fq0A8hx.gif)"
   ]
  },
  {
   "cell_type": "code",
   "execution_count": 10,
   "metadata": {
    "colab": {},
    "colab_type": "code",
    "id": "hl_kcFGpkSyu",
    "outputId": "13ffa86a-4b7e-4930-eff7-f4042620ab24"
   },
   "outputs": [
    {
     "name": "stdout",
     "output_type": "stream",
     "text": [
      "[0, 1, 2, 3, 3, 5, 6, 7]\n"
     ]
    }
   ],
   "source": [
    "#1. feladat: Buborékrendezés függvényt, és futtatása [3,2,1,1,8,5,16]-on.\n",
    "szamok=[3,1,5,6,7,3,2,0]\n",
    "def bubble(x):\n",
    "    for i in range(len(x)-1,-1,-1):\n",
    "        for j in range(i):\n",
    "            if(x[j+1] < x[j]):\n",
    "                a=x[j+1]\n",
    "                x[j+1]=x[j]\n",
    "                x[j]=a\n",
    "bubble(szamok)\n",
    "print(szamok)"
   ]
  },
  {
   "cell_type": "markdown",
   "metadata": {
    "colab_type": "text",
    "id": "egdG0QS2kSzo"
   },
   "source": [
    "## Mátrixok a matematikában\n",
    "\n",
    "Ha valamilyen kommutatív gyűrű elemeit - pl: valós, komplex számokat - $m$ sorba és $n$ oszlopba rendezzük, akkor tudjuk, hogy egy $m x n$-es mátrixról van szó. (első szám a soroké, második az oszlopoké!)\n",
    "\n",
    "Múlt héten megtanultatok műveleteket végezni mátrixokkal, és megbeszéltetek néhány tulajdonságot. Mi ezen az órán kicsit kiterjesztjük az elképzeléseiteket arról, hogy mire is lehet használni ezeket a műveleteket, és megtanuljuk, hogy, "
   ]
  },
  {
   "cell_type": "markdown",
   "metadata": {
    "colab_type": "text",
    "id": "CXY66HZ7kSzs"
   },
   "source": [
    "## Mátrixok megismerése a Python-ban: a Numpy csomag\n",
    "\n",
    "A python numpy csomagja az egyik leggyakrabban használt kiegészítő: matematikai könyvtárakat tartalmaz, amik nagyon nagy segítségére vannak bárkinek, aki komolyabb műveleteket szeretne végezni. A Numpy elég jól optimalizált is, így az olyan számításokat is megéri NumPyosítani, amik megoldhatók alap Pythonnal is."
   ]
  },
  {
   "cell_type": "markdown",
   "metadata": {
    "colab_type": "text",
    "id": "2IFB1pwOkSzy"
   },
   "source": [
    "## Numpy telepítése a környezetünkbe, importálás"
   ]
  },
  {
   "cell_type": "code",
   "execution_count": 2,
   "metadata": {
    "colab": {},
    "colab_type": "code",
    "id": "dbK4p8-ckSz2"
   },
   "outputs": [],
   "source": [
    "import numpy as np"
   ]
  },
  {
   "cell_type": "markdown",
   "metadata": {
    "colab_type": "text",
    "id": "sd6QhY1UkS0G"
   },
   "source": [
    "## Array-ok, tömbök\n",
    "\n",
    "A numpy a vektorokat, a mátrixokat és magasabb rendű (2D+) mennyiségeket mind array-nak/tömbnek hívja. Ezekben ugyanolyan típusú elemek lehetnek csak - nem úgy, mint eddig a többi adattároló struktúránkban. Egy ilyen tömböt a következőképpen tölthetek fel elemekkel:"
   ]
  },
  {
   "cell_type": "code",
   "execution_count": 0,
   "metadata": {
    "colab": {},
    "colab_type": "code",
    "id": "l5XqTEbekS0I",
    "outputId": "84143470-e458-466d-c1db-88ea2527f05b"
   },
   "outputs": [
    {
     "name": "stdout",
     "output_type": "stream",
     "text": [
      "[1 2 3]\n",
      "<class 'numpy.ndarray'>\n",
      "(3,)\n",
      "2\n"
     ]
    }
   ],
   "source": [
    "a = np.array([1,2,3]) #rank 1/1D-s array/tömb készítése listából\n",
    "\n",
    "print(a)\n",
    "print(type(a))\n",
    "print(a.shape)\n",
    "print(a[1])"
   ]
  },
  {
   "cell_type": "code",
   "execution_count": 0,
   "metadata": {
    "colab": {
     "base_uri": "https://localhost:8080/",
     "height": 127
    },
    "colab_type": "code",
    "id": "BfixPB2SkS0e",
    "outputId": "fd702a57-9215-4785-f34b-73868ddebd65"
   },
   "outputs": [
    {
     "name": "stdout",
     "output_type": "stream",
     "text": [
      "[[2 3]\n",
      " [0 1]\n",
      " [3 3]]\n",
      "(3, 2)\n",
      "3\n",
      "[0 1]\n"
     ]
    }
   ],
   "source": [
    "b = np.array([[2,3],[0,1],[3,3]])\n",
    "\n",
    "print(b) #megmaradnak a határolók ugyanúgy\n",
    "print(b.shape) #2x2re számítunk\n",
    "print(b[0,1]) #először sor, utána oszlop, 0-tól indul, mint a listákban is\n",
    "print(b[1]) #lehet részekre bontani"
   ]
  },
  {
   "cell_type": "code",
   "execution_count": 0,
   "metadata": {
    "colab": {},
    "colab_type": "code",
    "id": "yGhmBndHkS0x",
    "outputId": "a27ffde1-67bb-4d09-dcb0-2ea35a98c7c7",
    "scrolled": true
   },
   "outputs": [
    {
     "name": "stdout",
     "output_type": "stream",
     "text": [
      "[[1. 0. 0.]\n",
      " [0. 1. 0.]\n",
      " [0. 0. 1.]]\n"
     ]
    }
   ],
   "source": [
    "#Előfordulhat, hogy egységmátrixra van szükségem.\n",
    "egyseg=np.eye(3)\n",
    "print(egyseg)"
   ]
  },
  {
   "cell_type": "code",
   "execution_count": 0,
   "metadata": {
    "colab": {},
    "colab_type": "code",
    "id": "Loh1AE6ZkS09",
    "outputId": "223f99e4-3f60-4f04-ce29-1d98405e441e"
   },
   "outputs": [
    {
     "name": "stdout",
     "output_type": "stream",
     "text": [
      "[[0. 0. 0.]\n",
      " [0. 0. 0.]]\n"
     ]
    }
   ],
   "source": [
    "#Vagy üresre\n",
    "empty=np.zeros((2,3))\n",
    "print(empty)"
   ]
  },
  {
   "cell_type": "code",
   "execution_count": 0,
   "metadata": {
    "colab": {},
    "colab_type": "code",
    "id": "c6PkjU0dkS1J",
    "outputId": "a5ab0a6d-c60a-4e0d-885f-76662ccbed3b"
   },
   "outputs": [
    {
     "name": "stdout",
     "output_type": "stream",
     "text": [
      "[[[6.9 6.9]\n",
      "  [6.9 6.9]]\n",
      "\n",
      " [[6.9 6.9]\n",
      "  [6.9 6.9]]]\n"
     ]
    }
   ],
   "source": [
    "#Esetleg egyesek/konstans/random\n",
    "const=np.full((2,2,2),6.9)\n",
    "print(const)\n",
    "egyesek=np.ones((2,2))\n",
    "print(egyesek)\n",
    "dobokocka=np.random.random((3,3)) #véletlenszerű értékek 0-1 között"
   ]
  },
  {
   "cell_type": "code",
   "execution_count": 5,
   "metadata": {
    "colab": {
     "base_uri": "https://localhost:8080/",
     "height": 274
    },
    "colab_type": "code",
    "id": "vdr0_f27OVjQ",
    "outputId": "57709fe1-b677-4a02-92ee-ff4bd0de71d9"
   },
   "outputs": [
    {
     "name": "stdout",
     "output_type": "stream",
     "text": [
      "[[[ 0  1  2  3]\n",
      "  [ 4  5  6  7]]\n",
      "\n",
      " [[ 8  9 10 11]\n",
      "  [12 13 14 15]]]\n",
      "(2, 2, 4)\n",
      "[[[ 0  1  2  3]\n",
      "  [ 4  5  6  7]]\n",
      "\n",
      " [[ 8  9 10 11]\n",
      "  [12 13 14 15]]]\n",
      "(2, 2, 4)\n",
      "13\n",
      "[12 13]\n"
     ]
    }
   ],
   "source": [
    "#vektortként is ki tudom választani:\n",
    "tombom=np.array([[[0,1,2,3],[4,5,6,7]],[[8,9,10,11],[12,13,14,15]]]) #tyű, ez borzalmas! Hogy lehet ezt rövidebben?\n",
    "tombom2=np.arange(16) #ez a default, 0,16,1 is lehetne!\n",
    "#ez így még nem ok!\n",
    "tombom2=tombom2.reshape(2,2,4) #úristen, de kényelmes!\n",
    "\n",
    "print(tombom)\n",
    "print(tombom.shape)\n",
    "\n",
    "print(tombom2)\n",
    "print(tombom2.shape)\n",
    "\n",
    "\n",
    "print(tombom[1,1,1])\n",
    "#[1,1,1,0,1] miért nem jó?\n",
    "print(tombom[1,1,[0,1]])"
   ]
  },
  {
   "cell_type": "code",
   "execution_count": 0,
   "metadata": {
    "colab": {
     "base_uri": "https://localhost:8080/",
     "height": 127
    },
    "colab_type": "code",
    "id": "RFtjbZO5DMaf",
    "outputId": "26917a60-3d13-44db-9119-b561b574d503"
   },
   "outputs": [
    {
     "name": "stdout",
     "output_type": "stream",
     "text": [
      "[[[ 1  2]\n",
      "  [ 5  6]]\n",
      "\n",
      " [[ 9 10]\n",
      "  [13 15]]]\n",
      "[[13 15]]\n"
     ]
    }
   ],
   "source": [
    "#Slicing vagy szeletelés\n",
    "a=tombom[:,:,1:-1]\n",
    "print(a)\n",
    "print(a.shape)\n",
    "\n",
    "b=tombom[[1],[1],1:-1]\n",
    "print(b.shape)\n",
    "#slicing és indexing különbsége!!!"
   ]
  },
  {
   "cell_type": "code",
   "execution_count": 0,
   "metadata": {
    "colab": {
     "base_uri": "https://localhost:8080/",
     "height": 54
    },
    "colab_type": "code",
    "id": "qDfJVFg6p8-i",
    "outputId": "7e67565a-f575-4253-fa86-f1d940d6e17c"
   },
   "outputs": [
    {
     "name": "stdout",
     "output_type": "stream",
     "text": [
      "[5 6 7 8] (4,)\n",
      "[[5 6 7 8]] (1, 4)\n"
     ]
    }
   ],
   "source": [
    "a = np.array([[1,2,3,4], [5,6,7,8], [9,10,11,12]])\n",
    "row1=a[1,:]\n",
    "row2=a[1:2,:]\n",
    "\n",
    "print(row1, row1.shape)\n",
    "print(row2, row2.shape)\n"
   ]
  },
  {
   "cell_type": "code",
   "execution_count": 0,
   "metadata": {
    "colab": {
     "base_uri": "https://localhost:8080/",
     "height": 146
    },
    "colab_type": "code",
    "id": "Ey1LyH0FXMM8",
    "outputId": "36b7f577-197c-4b79-c7b7-1bb3becf051b"
   },
   "outputs": [
    {
     "name": "stdout",
     "output_type": "stream",
     "text": [
      "[[[ 0  2]\n",
      "  [ 4  6]]\n",
      "\n",
      " [[ 8 10]\n",
      "  [12 14]]]\n",
      "[0 2]\n",
      "[ 0  2  4  6  8 10 12 14]\n"
     ]
    }
   ],
   "source": [
    "#Egyszerre is lehet használni a kettőt, pl: [:,[1,2],:] ->mit csinál?\n",
    "#slice-oljátok ki tombom-ből a 2-vel osztható számokat, úgy, hogy a dimenzióját megartja!\n",
    "c1=tombom[:,:,[0,2]]\n",
    "print(c1)\n",
    "#most 1d-be!\n",
    "c2=tombom[0,0,[0,2]] #? csak soronként?\n",
    "print(c2)\n",
    "#Flatten! Szükségetek lesz rá a háziban...\n",
    "c2=c1.flatten()\n",
    "print(c2)"
   ]
  },
  {
   "cell_type": "code",
   "execution_count": 3,
   "metadata": {
    "colab": {
     "base_uri": "https://localhost:8080/",
     "height": 72
    },
    "colab_type": "code",
    "id": "UZMYVzCXWxdV",
    "outputId": "2f3e7fcd-5a45-4525-8f7b-d91bf0ea9288"
   },
   "outputs": [
    {
     "name": "stdout",
     "output_type": "stream",
     "text": [
      "[1 4 5]\n",
      "[1 4 5]\n"
     ]
    }
   ],
   "source": [
    "#tetszőleges elemek kiválasztása tetszőleges sorból\n",
    "a = np.array([[1,2], [3, 4], [5, 6]])\n",
    "#indexelés vektorokkal dimenziónként\n",
    "print(np.array([a[0, 0], a[1, 1], a[2, 0]]))\n",
    "print(np.array(a[[0,1,2],[0,1,0]]))\n"
   ]
  },
  {
   "cell_type": "code",
   "execution_count": 3,
   "metadata": {
    "colab": {},
    "colab_type": "code",
    "id": "NYO8Z7M8sf1d"
   },
   "outputs": [
    {
     "name": "stdout",
     "output_type": "stream",
     "text": [
      "[[ 0  1  2  3]\n",
      " [ 4  5  6  7]\n",
      " [ 8  9 10 11]\n",
      " [12 13 14 15]]\n",
      "[ 0  5 10 15]\n"
     ]
    }
   ],
   "source": [
    "#hogyan választanátok ki egy mátrix minden sorából egy elemet? Sokszor előfordul, hogy ilyen kell.\n",
    "a=np.array([np.arange(16)])\n",
    "a=a.reshape(4,4)\n",
    "print(a)\n",
    "print(a[np.arange(4), [0,1,2,3]])\n"
   ]
  },
  {
   "cell_type": "code",
   "execution_count": 4,
   "metadata": {},
   "outputs": [
    {
     "name": "stdout",
     "output_type": "stream",
     "text": [
      "[[False False False False]\n",
      " [ True  True  True  True]\n",
      " [ True  True  True  True]\n",
      " [ True  True  True  True]]\n",
      "[ 4  5  6  7  8  9 10 11 12 13 14 15]\n"
     ]
    }
   ],
   "source": [
    "#bool-os indexelés: feltételnek megfelelő elemek kiválasztása mátrixból.\n",
    "bool_idx=(a>3)\n",
    "print(bool_idx)\n",
    "#1D-s array visszaadása, ahol a feltétel teljesül:\n",
    "print(a[bool_idx])"
   ]
  },
  {
   "cell_type": "markdown",
   "metadata": {},
   "source": [
    "### Adattípusok tömbökben"
   ]
  },
  {
   "cell_type": "code",
   "execution_count": 5,
   "metadata": {
    "colab": {},
    "colab_type": "code",
    "id": "JhQILssEkS1Z"
   },
   "outputs": [
    {
     "name": "stdout",
     "output_type": "stream",
     "text": [
      "<class 'numpy.ndarray'> <class 'numpy.ndarray'> <class 'numpy.ndarray'>\n",
      "int64 float64 int64\n",
      "int64\n"
     ]
    }
   ],
   "source": [
    "x = np.array([1, 2])  # nupmpy választ\n",
    "y = np.array([1.0, 2.0])  # numpy választ\n",
    "z = np.array([1, 2], dtype=np.int64)  #forceolok (szám=bitek száma)\n",
    "print(type(x),type(y),type(z))\n",
    "print (x.dtype, y.dtype, z.dtype)\n",
    "konv=y.astype('int64')\n",
    "print(konv.dtype)"
   ]
  },
  {
   "cell_type": "markdown",
   "metadata": {
    "colab_type": "text",
    "id": "5fTVCPdXkS1j"
   },
   "source": [
    "## Alapműveletek tömbökkel\n",
    "\n",
    "Az alapműveleteket \\\\( (+,-,\\div,*,\\sqrt,a^n) \\\\), ha a +,-,/,* (!! Matlab mágusok, figyelem),np.sqrt(),**  operátorokkal jelöljük őket, elemenként végzi el a numpy. Ez a mátrixoknál tanult összeghez és diadikus szorzathoz hasonlít. "
   ]
  },
  {
   "cell_type": "code",
   "execution_count": 6,
   "metadata": {
    "colab": {},
    "colab_type": "code",
    "id": "oHMgqljHkS1l",
    "outputId": "2e030d9d-1d85-44ce-ddca-f450c43865d3"
   },
   "outputs": [
    {
     "name": "stdout",
     "output_type": "stream",
     "text": [
      "[[3 4]\n",
      " [3 5]]\n"
     ]
    }
   ],
   "source": [
    "a1=np.array([[1,1],[1,1]])\n",
    "b=np.array([[1,2],[1,3]])\n",
    "print(b+2*a1)"
   ]
  },
  {
   "cell_type": "code",
   "execution_count": 7,
   "metadata": {},
   "outputs": [
    {
     "name": "stdout",
     "output_type": "stream",
     "text": [
      "[[0.84147098 0.84147098]\n",
      " [0.84147098 0.84147098]]\n"
     ]
    }
   ],
   "source": [
    "#igazából bármilyen egyváltozós függvényt is elemenként értékel ki:\n",
    "a2=np.sin(a1)\n",
    "print(a2)"
   ]
  },
  {
   "cell_type": "code",
   "execution_count": 8,
   "metadata": {
    "colab": {},
    "colab_type": "code",
    "id": "J0aLCQNGkS1z",
    "outputId": "cc5a6b59-fbe5-44f1-a894-7969c6651f33"
   },
   "outputs": [
    {
     "name": "stdout",
     "output_type": "stream",
     "text": [
      "[[ 5  1  2  3]\n",
      " [ 4 10  6  7]\n",
      " [ 8  9 15 11]\n",
      " [12 13 14 20]]\n"
     ]
    }
   ],
   "source": [
    "import numpy as np\n",
    "#lehet elemenként is műveletelni\n",
    "a[np.arange(4), [0,1,2,3]]+=5\n",
    "print(a)"
   ]
  },
  {
   "cell_type": "code",
   "execution_count": 9,
   "metadata": {
    "colab": {},
    "colab_type": "code",
    "id": "smlNhGNTkS2M",
    "outputId": "3cb12589-cd7a-478f-b46b-d34d1b62bbe9"
   },
   "outputs": [
    {
     "name": "stdout",
     "output_type": "stream",
     "text": [
      "[11 12]\n",
      "219\n",
      "219\n"
     ]
    }
   ],
   "source": [
    "#dot: mindig skaláris szorzatot végez el (két vektorból sose lesz mátrix)\n",
    "v = np.array([9,10])\n",
    "w = np.array([11, 12])\n",
    "print(w)\n",
    "print(np.dot(v,w))\n",
    "print(np.dot(v.T,w)) #hiába transzponálok"
   ]
  },
  {
   "cell_type": "code",
   "execution_count": 29,
   "metadata": {},
   "outputs": [
    {
     "name": "stdout",
     "output_type": "stream",
     "text": [
      "[10 48]\n"
     ]
    }
   ],
   "source": [
    "A=np.array([np.arange(4)]).reshape(2,2)\n",
    "print(A.dot(v))"
   ]
  },
  {
   "cell_type": "code",
   "execution_count": 32,
   "metadata": {},
   "outputs": [
    {
     "name": "stdout",
     "output_type": "stream",
     "text": [
      "6\n",
      "[[0 2]\n",
      " [1 3]]\n"
     ]
    }
   ],
   "source": [
    "#Hogy adnátok össze egy mátrix elemeit?\n",
    "sum_of_A=A.dot(np.array([1,1])).dot(np.array([1,1]))\n",
    "print(sum_of_A)\n",
    "A=A.T\n",
    "print(A)"
   ]
  },
  {
   "cell_type": "code",
   "execution_count": 31,
   "metadata": {},
   "outputs": [
    {
     "name": "stdout",
     "output_type": "stream",
     "text": [
      "6\n",
      "[2 4]\n",
      "[1 5]\n"
     ]
    }
   ],
   "source": [
    "#tele vagyunk hasznos függvényekkel - guglizzatok sokat!\n",
    "print (np.sum(A))  # Teljes összeg\n",
    "print (np.sum(A, axis=0))  # Minden oszlopra egyesével\n",
    "print (np.sum(A, axis=1))  # Minden sorra egyesével"
   ]
  },
  {
   "cell_type": "code",
   "execution_count": 34,
   "metadata": {},
   "outputs": [
    {
     "name": "stdout",
     "output_type": "stream",
     "text": [
      "[[ 2  2  4]\n",
      " [ 5  5  7]\n",
      " [ 8  8 10]\n",
      " [11 11 13]]\n"
     ]
    }
   ],
   "source": [
    "#broadcasting - mátrixok kiterjesztése, pl: vektort szeretnék hozzáadni egy mátrix minden sorához.\n",
    "#x mátrix minden sorához hozzáadom v vektort, eltárolom y-ban.\n",
    "x = np.array([np.arange(1,13)]).reshape(4,3)\n",
    "v = np.array([1, 0, 1])\n",
    "y = np.empty_like(x)   # ugyanolyan shape\n",
    "\n",
    "# for ciklussal\n",
    "for i in range(4):\n",
    "    y[i, :] = x[i, :] + v\n",
    "\n",
    "print(y)\n"
   ]
  },
  {
   "cell_type": "code",
   "execution_count": 36,
   "metadata": {},
   "outputs": [
    {
     "name": "stdout",
     "output_type": "stream",
     "text": [
      "[[1 0 1]\n",
      " [1 0 1]\n",
      " [1 0 1]\n",
      " [1 0 1]]\n",
      "[[ 2  2  4]\n",
      " [ 5  5  7]\n",
      " [ 8  8 10]\n",
      " [11 11 13]]\n"
     ]
    }
   ],
   "source": [
    "#ez egy bazi nagy mátrixsznál nagyon lassú lenne. Mi lenne, ha gyorsan tudnék csinálni egy olyan mátrixot, amit csak\n",
    "#össze kell adnom x-el az eredményhez?\n",
    "vt=np.tile(v,(4,1))\n",
    "print(vt)\n",
    "y=x+vt\n",
    "print(y)"
   ]
  },
  {
   "cell_type": "code",
   "execution_count": 38,
   "metadata": {},
   "outputs": [
    {
     "name": "stdout",
     "output_type": "stream",
     "text": [
      "[[ 2  2  4]\n",
      " [ 5  5  7]\n",
      " [ 8  8 10]\n",
      " [11 11 13]]\n"
     ]
    }
   ],
   "source": [
    "y=x+v\n",
    "print(y)\n",
    "#és ugyanúgy megcsilnálja! Itt olvassatok utána: \n",
    "#Dokumentáció: (http://docs.scipy.org/doc/numpy/user/basics.broadcasting.html)\n",
    "#Magyarázat: (http://wiki.scipy.org/EricsBroadcastingDoc)."
   ]
  },
  {
   "cell_type": "code",
   "execution_count": 4,
   "metadata": {},
   "outputs": [
    {
     "name": "stdout",
     "output_type": "stream",
     "text": [
      "[[-0.5   1.  ]\n",
      " [ 0.25  0.  ]]\n"
     ]
    }
   ],
   "source": [
    "#előfordulhat, hogy fájlba kiírnátok/beolvasnátok:\n",
    "A=np.array([[0,4],[1,2]])\n",
    "B=np.linalg.inv(A)\n",
    "np.save('ikszde',B)\n",
    "print(np.load('ikszde.npy'))"
   ]
  },
  {
   "cell_type": "code",
   "execution_count": 3,
   "metadata": {},
   "outputs": [
    {
     "name": "stdout",
     "output_type": "stream",
     "text": [
      "-3.999999999999999\n",
      "1.0\n",
      "[[-0.5  -1.5   1.25]\n",
      " [ 0.    1.    0.  ]\n",
      " [ 0.5   0.5  -0.75]]\n"
     ]
    }
   ],
   "source": [
    "#amivel talán már szívtatok első matek gyakorlaton: a determináns!\n",
    "A = np.array([[3,2,5],[0,1,0],[2,2,2]])\n",
    "print(np.linalg.det(A))\n",
    "#miért ilyen?\n",
    "#vmi ellenőrzőt tudunk mondani?\n",
    "print(np.linalg.det(np.eye(4)))\n",
    "#ami szintén segíthet: invertálás\n",
    "B=np.linalg.inv(A) #nem 0 a det és kvadratikus->lesz inverze!\n",
    "print(B)"
   ]
  },
  {
   "cell_type": "markdown",
   "metadata": {
    "colab_type": "text",
    "id": "eqLZI4RH1PpK"
   },
   "source": [
    "## Numerikus integrálás - gyors áttekintés\n",
    "\n",
    "A műszaki életben nagyon gyakran fordul elő, hogy valamilyen mennyiséget integrálnunk kell (pl.: kondi feszültségéből a töltést, gyorsulásmérőből a megtett utat kinyerni). A legtöbb mennyiséget manapság digitálisan (azaz mintavételezve) mérjük, és valamilyen számítógéppel értékeljük ki: nézzük meg, hogy a számítógépeink hogy integrálnak! A numerikus integrálásól [itt](https://web.cs.elte.hu/blobs/diplomamunkak/bsc_matelem/2010/pasztor_nikolett.pdf) is olvashattok bővebben.\n",
    "\n",
    "### A legegyszerűbb módszer:\n",
    "\n",
    "Integráljuk a mért mennyiséget az idő mentén! Minden pillanatban ismerjük az idő értékét, és a mennyiségünket is. Közelítsük az integrált a mennyiség(idő) grafikon alatti területtel.\n",
    "\n",
    "![img](http://spiff.rit.edu/classes/phys317/lectures/num_integ2/rect_integ.gif)\n",
    "\n",
    "## 3. feladat\n",
    "\n",
    "Valósítsuk meg kódban a szinusz függvény integrálását a $[0, 2\\pi]$ intervallumon!"
   ]
  },
  {
   "cell_type": "code",
   "execution_count": 4,
   "metadata": {
    "colab": {},
    "colab_type": "code",
    "id": "4PIPS09C1R3D"
   },
   "outputs": [
    {
     "name": "stdout",
     "output_type": "stream",
     "text": [
      "-3.414475547304343e-14\n"
     ]
    }
   ],
   "source": [
    "import numpy as np\n",
    "num_of_pts=1000000\n",
    "\n",
    "time=np.linspace(0,2*np.pi, num_of_pts)\n",
    "sin_t=np.sin(time)\n",
    "int_sin_t=0\n",
    "prev_t=0\n",
    "for t in range(0,num_of_pts):\n",
    "    int_sin_t+=(time[t]-prev_t)*sin_t[t]\n",
    "    prev_t=time[t]\n",
    "    \n",
    "print(int_sin_t)"
   ]
  },
  {
   "cell_type": "code",
   "execution_count": 5,
   "metadata": {
    "colab": {},
    "colab_type": "code",
    "id": "NyiSjfYU1Xln"
   },
   "outputs": [
    {
     "name": "stdout",
     "output_type": "stream",
     "text": [
      "1.6653345369377348e-15\n"
     ]
    }
   ],
   "source": [
    "# meg tudjuk csinálni máshogy is! Ha amúgy is np vektorokkal dolgozunk, miért ne dolgoznánk vektorműveletekkel?\n",
    "num_of_pts=1000000\n",
    "\n",
    "time=np.linspace(0,2*np.pi, num_of_pts)\n",
    "\n",
    "#ha állandó a mintavételezési idő, ez fölösleges, de az óvatosság nem árt\n",
    "time_shifted=np.insert(time, 0,0)\n",
    "time_shifted=np.delete(time_shifted, num_of_pts-1)\n",
    "\n",
    "dt=time-time_shifted\n",
    "sin_t=np.sin(time)\n",
    "\n",
    "int_sin_t=np.dot(sin_t, dt)\n",
    "\n",
    "print(int_sin_t)\n",
    "#ez sokkal gyorsabb"
   ]
  },
  {
   "cell_type": "markdown",
   "metadata": {
    "colab_type": "text",
    "id": "ohCw0zSH1iWp"
   },
   "source": [
    "### Trapéz módszer\n",
    "\n",
    "Ez csak a legegyszerűbb módszer, nem így szokták igazából csinálni. Sokkal pontosabb például trapézokkal, de ezt nem fogjuk leprogramozni, mert van hozzá egy klassz [könyvtár](https://docs.scipy.org/doc/numpy/reference/generated/numpy.trapz.html).\n",
    "\n",
    "![img_trapez](http://spiff.rit.edu/classes/phys317/lectures/num_integ2/trap_integ.gif)"
   ]
  },
  {
   "cell_type": "code",
   "execution_count": 0,
   "metadata": {
    "colab": {},
    "colab_type": "code",
    "id": "xdRVetrA1dE0"
   },
   "outputs": [],
   "source": [
    "num_of_pts=1000000\n",
    "\n",
    "time=np.linspace(0,2*np.pi, num_of_pts)\n",
    "sin_t=np.sin(time)\n",
    "\n",
    "int_sin_t=np.trapz(sin_t, time)\n",
    "print(int_sin_t)"
   ]
  },
  {
   "cell_type": "markdown",
   "metadata": {
    "colab_type": "text",
    "id": "izXPfgv21nIU"
   },
   "source": [
    "## Szűrés\n",
    "\n",
    "A valóságban az adataink többsége nagyon zajos. Digitális módon megszűrhetjük az adatainkat, erre egy módszer a mozgó átlag/moving average. A mozgó átlag lényege, hogy a szűrt értéket a környezetében található szűretlen értékek átlaga adja meg.\n",
    "![moving_avg](http://www.cyclify.com/wiki/images/thumb/4/4d/Moving-average-filter-simulation.gif/598px-Moving-average-filter-simulation.gif)\n",
    "\n",
    "### Csináljunk zajos adatot!\n",
    "\n",
    "Az eredeti szinuszfüggvényünkön egy felharmonikust, egy nagyobb frekvenciájú (de kisebb amplitúdójú) szinuszt helyezhetünk el."
   ]
  },
  {
   "cell_type": "code",
   "execution_count": 0,
   "metadata": {
    "colab": {},
    "colab_type": "code",
    "id": "MaiKhSXG10Ss"
   },
   "outputs": [],
   "source": [
    "#szűrjünk mozgó átlaggal!\n",
    "\n",
    "def moving_avg(my_list, N):\n",
    "    moving_avgs=[]\n",
    "    cumulated_sums=[]\n",
    "    cumulated_sum=0\n",
    "    for i in range(0,len(my_list)):\n",
    "        cumulated_sum+=my_list[i]\n",
    "        cumulated_sums.append(cumulated_sum)\n",
    "        if(i>N):\n",
    "            moving_avg=(cumulated_sums[i]-cumulated_sums[i-N])/N\n",
    "            moving_avgs.append(moving_avg)\n",
    "        else:\n",
    "            moving_avgs.append(my_list[i])\n",
    "        \n",
    "    return moving_avgs   "
   ]
  },
  {
   "cell_type": "code",
   "execution_count": 0,
   "metadata": {
    "colab": {},
    "colab_type": "code",
    "id": "Y4j90AeM19P9"
   },
   "outputs": [],
   "source": [
    "#pyplot\n",
    "import matplotlib.pyplot as plt\n",
    "%matplotlib inline\n",
    "plt.plot(time,sin_t)"
   ]
  },
  {
   "cell_type": "code",
   "execution_count": 0,
   "metadata": {
    "colab": {},
    "colab_type": "code",
    "id": "p05prtFH2E-z"
   },
   "outputs": [],
   "source": [
    "%matplotlib inline\n",
    "plt.plot(time,signal)"
   ]
  },
  {
   "cell_type": "code",
   "execution_count": 0,
   "metadata": {
    "colab": {},
    "colab_type": "code",
    "id": "y2miwY1b2FPN"
   },
   "outputs": [],
   "source": [
    "%matplotlib inline\n",
    "plt.plot(time,moving_avg(signal,30))\n",
    "# konvolúció magyarázásánál majd megmutatom a beépített numpy megoldást is. 1D konvolúcióval csinálja!"
   ]
  }
 ],
 "metadata": {
  "colab": {
   "name": "Matrixok_1.ipynb",
   "provenance": [],
   "version": "0.3.2"
  },
  "kernelspec": {
   "display_name": "Python 3",
   "language": "python",
   "name": "python3"
  },
  "language_info": {
   "codemirror_mode": {
    "name": "ipython",
    "version": 3
   },
   "file_extension": ".py",
   "mimetype": "text/x-python",
   "name": "python",
   "nbconvert_exporter": "python",
   "pygments_lexer": "ipython3",
   "version": "3.7.3"
  }
 },
 "nbformat": 4,
 "nbformat_minor": 1
}
