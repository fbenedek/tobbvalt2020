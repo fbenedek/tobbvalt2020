{
 "cells": [
  {
   "cell_type": "markdown",
   "metadata": {},
   "source": [
    "# Conway-féle \"Game of Life\"\n",
    "\n",
    "![kepik](https://upload.wikimedia.org/wikipedia/commons/e/e6/Conways_game_of_life_breeder_animation.gif)\n",
    "\n",
    "A fenti gifen mozgó furcsa alakzat bonyolultnak tűnik, pedig a működése rém egyszerű; egy brit matematikus által kreált [szabályrendszert](https://www.youtube.com/watch?v=R9Plq-D1gEk) követve váltogatják egymást a fehér és fekete pixelek. Ezt a szabályrendszert hívják Conway-féle életjátéknak, és bár a megalkotója már jó ideje [megunta](https://www.youtube.com/watch?v=E8kUJL04ELA), egyszer azért érdekes eljátszani vele.\n",
    "\n",
    "- Alkossátok meg a Game of Life-ot Pythonban, egy 256x256-os \"sakktáblán\" úgy, hogy véletlenszerűen inicializált tábláról indultok!\n",
    "- Mondjatok példát stabil alakzatra - azaz olyanra, ami nem változtatja alakját a játék során!\n",
    "- Mondjatok példát \"forgó\" alakzatokra - amik egy helyben pörögni látszanak!\n",
    "- Mondjatok példát \"mászó\" alakzatokra, amik a szabály alkalmazásával folyamatos, haladó mozgást végeznek a képen!\n",
    "\n",
    "Még pár példa: https://www.youtube.com/watch?v=C2vgICfQawE és https://www.youtube.com/watch?v=xP5-iIeKXE8\n",
    "\n",
    "A munkátokat 2020.04.12 23:59-ig várjuk ezen a [formon](https://forms.gle/bAb37PELVFL84pE9A)."
   ]
  }
 ],
 "metadata": {
  "kernelspec": {
   "display_name": "Python 3",
   "language": "python",
   "name": "python3"
  },
  "language_info": {
   "codemirror_mode": {
    "name": "ipython",
    "version": 3
   },
   "file_extension": ".py",
   "mimetype": "text/x-python",
   "name": "python",
   "nbconvert_exporter": "python",
   "pygments_lexer": "ipython3",
   "version": "3.7.3"
  }
 },
 "nbformat": 4,
 "nbformat_minor": 2
}
