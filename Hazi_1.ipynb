{
 "cells": [
  {
   "cell_type": "markdown",
   "metadata": {
    "colab_type": "text",
    "id": "4lBmr_5HKNj2"
   },
   "source": [
    "# Többváltozós analízis mérnöki alkalmazásai - 1. házi feladat\n",
    "\n",
    "## Adminisztratív tudnivalók:\n",
    "- A házi feladat beadási határideje: 2020.03.01 23:59:59.99.\n",
    "- A feladatot iPtyhon notebook-ként a beadó [formra](https://forms.gle/1cR1AJzRZSGbS5RM8) töltsétek fel úgy, hogy minden cellát lefuttattok, hogy látszanak a kimenetek. Név-neptun páronként csak egy feltöltés lehetséges, ha javítanátok a fájlt, írjatok emailt nekünk! \n",
    "- Üresen hagyott feladatattal/feladatrésszel nem fogadunk el házit.\n",
    "- A szöveges kérdésekre külön markdown cellákban, egész mondatokban, tisztán fogalmazva válaszoljatok.\n",
    "- A programozós feladatokat jól kommenteljétek, és figyeljetek a változó- és függvénynevekre (pl.: ne legyen \"valtozo1, fuggvenyem_1(param1, param2)...\"\n"
   ]
  },
  {
   "cell_type": "markdown",
   "metadata": {
    "colab_type": "text",
    "id": "ZDvMtQSSKNj_"
   },
   "source": [
    "## 1. feladat: Neurális háló kimenetének számítása\n",
    "\n",
    "A neurális számítási paradigma reneszánszát éli manapság. Értsük meg a legalapvetőbb mély neurális hálók, az FFC (előrecsatolt, teljesen összekötött) hálók működését! Nézzétek meg ezt a [videót](https://www.youtube.com/watch?v=aircAruvnKk) alaposan (további [anyag](http://smartlab.tmit.bme.hu/oktatas-deep-learning-eloadas?eloadas=2) és [videó](https://www.youtube.com/watch?v=dQw4w9WgXcQ)), és válaszoljatok a következő kérdésekre:\n",
    "\n",
    "- 1.a: Magyarázzátok el saját szavaitokkal a következő fogalmakat:\n",
    "    - Elemi neuron (működése)\n",
    "    - Bemeneti vektor\n",
    "    - Aktivációs függvény\n",
    "    - Súlymátrix\n",
    "    - Kimeneti vektor\n",
    "- 1.b: Kiderül-e a súlymátrixok számából és méreteiből a hálózat topológiája (rétegek száma, rétegenként neuronok száma)? Ha igen, hogyan?\n",
    "- 1.c: Írd le, hogy ismert bemeneti vektor, súlymátrixok és aktivációs függvény esetében hogy számítható a hálózat kimeneti vektora!\n",
    "- 1.d: Ezen a  [linken](https://drive.google.com/open?id=1KdWl_OytNPaROJfBKdOFDFCo-O4MKz28) megtaláljátok egy olyan háló súlymátrixait, amelyik az [MNIST adatbázis](https://en.wikipedia.org/wiki/MNIST_database) kézzel írott számait ismeri fel. A súlymátrixok mellett megtaláljátok 5 szám \"flatten\"-elt (1D)-s fekete-fehér képét (az eredeti méret 28x28 pixel). A következő a feladatotok:\n",
    "    - Olvassátok be a súlyokat és a számok vektorait a numpy.load függvénnyel!\n",
    "    - Jelenítsétek meg a képernyőn a számokat!\n",
    "    - Írjatok egy függvényt, amelyik tetszőleges súlyvektorokra képes kiszámítani egy 2 rejtett rétegű (+1 kimeneti réteg) FCC neurális háló kimenetét! Az aktivációs függvény szigmoid és ReLU opciókkal választható legyen.\n",
    "    - Futtassátok le a függvényeteket a megadott súlyvektorokkal és számokkal, mindkét aktivációs függvénnyel (a háló jól működik, ha nem megfelelő helyen van a kimeneti maximum, nézzétek át a kódotokat)!\n",
    "    - Mit tapasztaltok, mi az eltérés a kimeneti vektorokban az aktivációs függvény változtatásával? Miért lehet ez? Változtat ez az eredményen?\n",
    "- 1.e: Olvassatok utána az osztályozási és regressziós felismerési feladatok különbségének! Szerintetek melyik volt a kettő közül az előbbi háló feladata? Miért?\n",
    "\n",
    "## 2. feladat: Út gyorsulásból\n",
    "\n",
    "A [linken](https://drive.google.com/open?id=1KdWl_OytNPaROJfBKdOFDFCo-O4MKz28) található csv fájlban Bence telefonjának gyorsulásértékei találhatóak kb. 50 miliszekundumos mintavételezési idővel. Töltsétek le a fájlt, és válaszoljatok az alábbi kérdésekre:\n",
    "\n",
    "- 2.a: Melyik adatoszlopok lehetnek fontosak, ha a gyorsulásértékekből a megtett út hosszára szeretnénk következtetni?\n",
    "- 2.b: Kell-e valamilyen átalakítást végezni az adatokkal, mielőtt számolni kezdenénk velük? Ha igen, milyet és miért?\n",
    "- 2.c: Bence telefonja nem túl szuper, ezért a kapott értékek zajosak. Válasszatok egy szűrési algoritmust, és szűrjétek meg vele az adatokat! A 2. órához tartozó jegyzetben találtok eligazítást.\n",
    "- 2.d: Milyen hosszú utat tett meg Bence zsebe a mérés során, ha a telefonját végig benne tartotta?"
   ]
  }
 ],
 "metadata": {
  "colab": {
   "name": "Hazi_1.ipynb",
   "provenance": [],
   "version": "0.3.2"
  },
  "kernelspec": {
   "display_name": "Python 3",
   "language": "python",
   "name": "python3"
  },
  "language_info": {
   "codemirror_mode": {
    "name": "ipython",
    "version": 3
   },
   "file_extension": ".py",
   "mimetype": "text/x-python",
   "name": "python",
   "nbconvert_exporter": "python",
   "pygments_lexer": "ipython3",
   "version": "3.7.3"
  }
 },
 "nbformat": 4,
 "nbformat_minor": 1
}
