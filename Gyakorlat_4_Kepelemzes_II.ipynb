{
 "cells": [
  {
   "cell_type": "markdown",
   "metadata": {},
   "source": [
    "# Negyedik gyakorlat: Képelemzés kevésbé kezdőknek\n",
    "\n",
    "## Ismétlés\n",
    "\n",
    "A múlt órán megbeszéltük, hogy a digitális képeinket, amiket [CCD](https://hu.wikipedia.org/wiki/CCD) vagy [CMOS](https://en.wikipedia.org/wiki/Active-pixel_sensor) szenzorokkal készítünk, hogyan dolgozhatók fel számítógéppel. Beszéltünk a különböző színterekről, mind például az RGB (vagy a testvére, a BGR) és a HSV. A mai gyakorlatunkon ezeket az ismereteket kicsit bővítve alkalmazásokat mutatunk arra, hogy hogyan tudjátok használatba venni a megszerzett OpenCV-s tudásotokat.\n",
    "\n",
    "## Az új dolog: videó\n",
    "\n",
    "Képfeldolgozásnál izgalmasabb videót feldolgozni: használjuk saját webkameránkat ahhoz, hogy felvételt készítsünk, amit aztán manipulálhatunk. Ebben segít az alábbi kódrészlet:"
   ]
  },
  {
   "cell_type": "code",
   "execution_count": 1,
   "metadata": {},
   "outputs": [],
   "source": [
    "import numpy as np\n",
    "import cv2\n",
    "\n",
    "# több kamera esetén a szám jelöli a kamerát - ha -1 van ott akkor az utolsó kamera lesz akitiválva\n",
    "cap = cv2.VideoCapture(0)\n",
    "\n",
    "# végtelen ciklus inítása a képek beolvasására\n",
    "# fúj fúj végtelen ciklus\n",
    "while(True):\n",
    "    # a videocapture read függvényével megkaphatjuk a képet\n",
    "    ret, frame = cap.read()\n",
    "    \n",
    "    # ha kiíratjuk háthatjuk, hogy a ret azt adja meg, hogy sikerült-e olvasni\n",
    "    # print(ret)\n",
    "\n",
    "    # Csináljunk szürkeárnyalatos képet!\n",
    "    # Múlt órai átalakítás\n",
    "    frame = cv2.cvtColor(frame, cv2.COLOR_BGR2GRAY)\n",
    "\n",
    "    # az OpenCV beépített megjelenítőjét használhatjuk, ezzel a legkönnyebb megnézni.\n",
    "    cv2.imshow('frame',frame)\n",
    "    \n",
    "    # várunk egy 'q'-ra a kilépéshez a ciklusból\n",
    "    if cv2.waitKey(1) & 0xFF == ord('q'):\n",
    "        break\n",
    "\n",
    "# A kamerát elengedi, nem fog a led mellette tovább világítani.\n",
    "cap.release()\n",
    "# Ha sok ablak lenne, ez a leghasznosabb parancs \n",
    "# Érdemes megpróbálni lekapcsolni kézzel az ablakokat még futás közben - elég nehéz\n",
    "cv2.destroyAllWindows()"
   ]
  },
  {
   "cell_type": "markdown",
   "metadata": {},
   "source": [
    "## Kiíratások\n",
    "\n",
    "Az OpenCV segítségével nem csak képeket tudunk elemezni, hanem képeket átalakítani is tudunk: rájuk is írkálhatunk például. Kezdjük azzal, hogy kiíratjuk, hány FPS-en fut a programunk. Az 'FPS' moziakszót biztosan nem kell bemutatni senkinek: a kettő egyértelmű jelentés közül itt most nem a CS1.6-ra gondolunk, hanem [erre](https://en.wikipedia.org/wiki/Frame_rate)."
   ]
  },
  {
   "cell_type": "code",
   "execution_count": 2,
   "metadata": {},
   "outputs": [],
   "source": [
    "import numpy as np\n",
    "import cv2\n",
    "import time #a timestamp lekérdezéséhez\n",
    "\n",
    "cap = cv2.VideoCapture(0)\n",
    "\n",
    "#az elején is legyen vmi.\n",
    "ts0 = time.time()\n",
    "\n",
    "while(True):\n",
    "    ret, frame = cap.read()\n",
    "    #mennyi időbe telt a ciklus? Ezzel osszuk el az 1s-t.\n",
    "    ts1 = time.time()\n",
    "    fps = 1/(ts1-ts0)\n",
    "    \n",
    "    #kezdjük újra az időmérést!\n",
    "    ts0 = ts1\n",
    "    \n",
    "    #most tegyük ki a képernyőre! Keressünk rá a doksiban!\n",
    "    fpsStr = 'FPS: '+str(fps)\n",
    "    cv2.putText(frame, fpsStr, (10,120), cv2.FONT_HERSHEY_SIMPLEX,1, (0,255,0),2,cv2.LINE_AA)\n",
    "    \n",
    "    cv2.imshow('frame', frame)\n",
    "    \n",
    "    if cv2.waitKey(1) & 0xFF == ord('q'):\n",
    "        break\n",
    "        \n",
    "cap.release()\n",
    "cv2.destroyAllWindows()"
   ]
  },
  {
   "cell_type": "code",
   "execution_count": 4,
   "metadata": {},
   "outputs": [],
   "source": [
    "#érdekes lehet: plottoljuk ki, hogy hogyan alakul az FPS-ünk az időben + írjunk ki átlagértéket is.\n",
    "import numpy as np\n",
    "import cv2\n",
    "import time #a timestamp lekérdezéséhez\n",
    "\n",
    "cap = cv2.VideoCapture(0)\n",
    "\n",
    "fpsVals = []\n",
    "\n",
    "#az elején is legyen vmi.\n",
    "ts0 = time.time()\n",
    "\n",
    "while(True):\n",
    "    ret, frame = cap.read()\n",
    "    #mennyi időbe telt a ciklus? Ezzel osszuk el az 1s-t.\n",
    "    ts1 = time.time()\n",
    "    fps = 1/(ts1-ts0)\n",
    "    fpsVals.append(fps)\n",
    "    \n",
    "    #kezdjük újra az időmérést!\n",
    "    ts0 = ts1\n",
    "    \n",
    "    #most tegyük ki a képernyőre! Keressünk rá a doksiban!\n",
    "    fpsStr = 'FPS: '+str(fps)\n",
    "    cv2.putText(frame, fpsStr, (10,120), cv2.FONT_HERSHEY_SIMPLEX,1, (0,255,0),2,cv2.LINE_AA)\n",
    "    \n",
    "    avgFpsStr = 'Average FPS: '+str(np.average(fpsVals))\n",
    "    cv2.putText(frame, avgFpsStr, (10,180), cv2.FONT_HERSHEY_SIMPLEX,1, (0,255,0),2,cv2.LINE_AA)\n",
    "    \n",
    "    cv2.imshow('frame', frame)\n",
    "    \n",
    "    if cv2.waitKey(1) & 0xFF == ord('q'):\n",
    "        break\n",
    "        \n",
    "cap.release()\n",
    "cv2.destroyAllWindows()"
   ]
  },
  {
   "cell_type": "code",
   "execution_count": 5,
   "metadata": {},
   "outputs": [
    {
     "data": {
      "text/plain": [
       "[<matplotlib.lines.Line2D at 0x1b0685d5c88>]"
      ]
     },
     "execution_count": 5,
     "metadata": {},
     "output_type": "execute_result"
    },
    {
     "data": {
      "image/png": "[encoded data removed]",
      "text/plain": [
       "<Figure size 432x288 with 1 Axes>"
      ]
     },
     "metadata": {
      "needs_background": "light"
     },
     "output_type": "display_data"
    }
   ],
   "source": [
    "#plottoljunk!\n",
    "%matplotlib inline\n",
    "import matplotlib.pyplot as plt\n",
    "\n",
    "plt.plot(fpsVals[::5])\n",
    "#minimum, maximum, medián..."
   ]
  },
  {
   "cell_type": "markdown",
   "metadata": {},
   "source": [
    "## 1. Feladat: Keressünk meg valami színeset!\n",
    "\n",
    "A múlt órán tanult thresholdinggal kell dolgoznunk. Segítségül: itt van egy szürkeárnyalatos kép thresholdozása:\n"
   ]
  },
  {
   "cell_type": "code",
   "execution_count": 6,
   "metadata": {},
   "outputs": [],
   "source": [
    "import numpy as np\n",
    "import cv2\n",
    "\n",
    "cap = cv2.VideoCapture(0)\n",
    "\n",
    "while(True):\n",
    "    ret, frame = cap.read()\n",
    "    #szürkeárnyalatos\n",
    "    frame = cv2.cvtColor(frame, cv2.COLOR_BGR2GRAY)\n",
    "    ret,thresh1 = cv2.threshold(frame,127,255,cv2.THRESH_BINARY)\n",
    "    cv2.imshow('frame',thresh1)\n",
    "    if cv2.waitKey(1) & 0xFF == ord('q'):\n",
    "        break\n",
    "        \n",
    "cap.release()\n",
    "cv2.destroyAllWindows()"
   ]
  },
  {
   "cell_type": "markdown",
   "metadata": {},
   "source": [
    "Ez nem teljesen jó nekünk; csak fekete-fehér képekkel illik így csinálni. Színes képeknél segítségünkre lesz a `cv2.inrange` függvény."
   ]
  },
  {
   "cell_type": "code",
   "execution_count": 7,
   "metadata": {},
   "outputs": [],
   "source": [
    "import numpy as np\n",
    "import cv2\n",
    "\n",
    "cap = cv2.VideoCapture(0)\n",
    "\n",
    "ret, frame = cap.read()\n",
    "\n",
    "#BGR->HSV\n",
    "imgHSV = cv2.cvtColor(frame, cv2.COLOR_BGR2HSV)\n",
    "\n",
    "#Mi lehet piros? Két szélső határ\n",
    "\n",
    "lower_red = np.array([150, 0, 0])\n",
    "upper_red = np.array([200, 255, 255])\n",
    "\n",
    "#Maszk elkészítése\n",
    "mask = cv2.inRange(imgHSV, lower_red, upper_red)\n",
    "\n",
    "#Maszk alkalmazása a képre\n",
    "frameSelected = cv2.bitwise_and(frame, frame, mask=mask)\n",
    "\n",
    "cv2.imshow('tresholdedImg',frameSelected)\n",
    "cv2.imshow('mask',mask)\n",
    "\n",
    "cv2.waitKey(0)    \n",
    "cap.release()\n",
    "cv2.destroyAllWindows()"
   ]
  },
  {
   "cell_type": "code",
   "execution_count": 4,
   "metadata": {},
   "outputs": [],
   "source": [
    "### kidolgozva ###\n",
    "\n",
    "import numpy as np\n",
    "import cv2\n",
    "\n",
    "cap = cv2.VideoCapture(0)\n",
    "\n",
    "while(True):\n",
    "    ret, frame = cap.read()\n",
    "    \n",
    "    #BGR->HSV\n",
    "    imgHSV = cv2.cvtColor(frame, cv2.COLOR_BGR2HSV)\n",
    "\n",
    "    #Mi lehet piros? Két szélső határ\n",
    "\n",
    "    lower_red = np.array([150, 0, 0])\n",
    "    upper_red = np.array([200, 255, 255])\n",
    "\n",
    "    #Maszk elkészítése\n",
    "    mask = cv2.inRange(imgHSV, lower_red, upper_red)\n",
    "\n",
    "    #Maszk alkalmazása a képre\n",
    "    frameSelected = cv2.bitwise_and(frame, frame, mask=mask)\n",
    "    cv2.imshow('frame',frameSelected)\n",
    "    \n",
    "    if cv2.waitKey(1) & 0xFF == ord('q'):\n",
    "        break\n",
    "        \n",
    "cap.release()\n",
    "cv2.destroyAllWindows()\n",
    "\n",
    "#kérdés: milyen részeket tudunk csak kiválasztani a HSV-ből?"
   ]
  },
  {
   "cell_type": "markdown",
   "metadata": {},
   "source": [
    "## Morfológiai átalakítások\n",
    "\n",
    "Biztosan észrevettétek, hogy a kicsi, minket nem érdeklő régiókat is kiválasztott az algoritmusunk. Javíthatnánk ezen úgy, hogyha valahogy elintéznénk, hogy csak a nagy területű objektumok kerüljenek rá a maszkra. Szerencsére erre is van eszközünk; a `cv2` [morfológiai átalakító függvényei](https://opencv-python-tutroals.readthedocs.io/en/latest/py_tutorials/py_imgproc/py_morphological_ops/py_morphological_ops.html) a segítségünkre lesznek. Kezdjük azzal, hogy a kicsi, egyedülálló pixeleket eltüntetjük: ez az \"erodálás\"."
   ]
  },
  {
   "cell_type": "code",
   "execution_count": 8,
   "metadata": {},
   "outputs": [],
   "source": [
    "import numpy as np\n",
    "import cv2\n",
    "\n",
    "cap = cv2.VideoCapture(0)\n",
    "\n",
    "while(True):\n",
    "    ret, frame = cap.read()\n",
    "    \n",
    "    #BGR->HSV\n",
    "    imgHSV = cv2.cvtColor(frame, cv2.COLOR_BGR2HSV)\n",
    "\n",
    "    #Mi lehet piros? Két szélső határ\n",
    "\n",
    "    lower_red = np.array([150, 0, 0])\n",
    "    upper_red = np.array([200, 255, 255])\n",
    "\n",
    "    #Maszk elkészítése\n",
    "    mask = cv2.inRange(imgHSV, lower_red, upper_red)\n",
    "    \n",
    "    #Maszk erodálása\n",
    "    #kernel init\n",
    "    kernel = np.ones((5,5), np.uint8)\n",
    "    #erode\n",
    "    maskEroded = cv2.erode(mask, kernel, iterations = 3)\n",
    "\n",
    "    #Maszk alkalmazása a képre\n",
    "    frameSelected = cv2.bitwise_and(frame, frame, mask=mask)\n",
    "    cv2.imshow('frame',mask)\n",
    "    cv2.imshow('orig', frame)\n",
    "    cv2.imshow('eroded', maskEroded)\n",
    "    \n",
    "    if cv2.waitKey(1) & 0xFF == ord('q'):\n",
    "        break\n",
    "        \n",
    "cap.release()\n",
    "cv2.destroyAllWindows()\n",
    "\n",
    "#dilate és closing\n"
   ]
  },
  {
   "cell_type": "markdown",
   "metadata": {},
   "source": [
    "## Mecha alapjai - és a diszkrét konvolúció\n",
    "\n",
    "Akinek régen volt az általános, átnézzük azért, hogy mit is jelent, és megnézzük az általános alakot is. A konvolúció (diszkrét és folytonos is) egy olyan művelet, amely $f$ és $g$ függvények egymásra hatását fejezi ki: megmutatja, hogy az egyik függvényt a másikon \"végigtolva\" milyen időfüggvényt kapok. A konvolvált $h$ függvényt a következő \"konvolúciós integrál\" adja:\n",
    "$$h(t)=\\int_{-\\infty}^{\\infty}f(\\tau)*g(t-\\tau)d\\tau$$\n",
    "Mi is történik ebben a kifejezésben? Azt jelenti, hogy $h(t)$ időfüggvény egy $t$ időpillanatbeli értékének kiszámításához $g$ t körüli részeinek értékeit mind megszorozzuk $f$ megfelelő értékeivel. Szemléltető ábra:\n",
    "\n",
    "![kep1](http://ertedmar.hu/assets/content/konvolucio/konvolucio_animation2.gif)\n",
    "\n",
    "Általában mind $f$, mind $g$ csak egy szűk intervallumon nem nulla - ezért nem kell folyton improprius integrálokkal varázsolni. Diszkrét időben még egyszerűbb ez az elképzelés.\n",
    "\n",
    "![kep2](https://i.stack.imgur.com/0RTyh.png)\n",
    "\n",
    "De mihez is lehet ennek köze? Nézzük meg alaposan a 2. órán írt kódot - találunk egy diszkrét konvolúciót! Ez a mozgó átlag. (egy $n$ elemből álló, $1/n$ értékekkel feltöltött vektor konvolúciós integrálja bármely $a$ vektorral $a$ mozgó átlaga $n$ elemenként számítva.\n",
    "\n",
    "Mivel ezt a mozgó átlagot két, 1D-s vektort összeműveletelve kaptuk, érezzük, hogy akár ki is terjeszthetjük $n$ dimenzióra a konvolúciót - de most maradjuk csak meg 2D-ben. Mit jelentene ez 2D-ben? Legyenek $A$ és $K$ kvadratikus mátrixok (ahol $A$ általában jóval több sorral/oszloppal rendelkezik, mint $K$, amit \"kernel\"-nek is hívunk) számoljuk ki $A$ minden eleménél a $K$ transzponáltjával vett \"súlyozott mozgó átlagot\" és kész is vagyunk! [Itt](http://www.songho.ca/dsp/convolution/convolution2d_example.html) végig van csinálva egy példa két 3x3-as mátrixra, ebből biztosan érthető.\n",
    "\n",
    "## 1 D konvolúció\n",
    "\n",
    "Kicsit siettünk a második órán, de talán emlékeztek, hogy volt szó jelek simításáról és a mozgó átlagról. Erre teljesen jó egy konvolúció is!"
   ]
  },
  {
   "cell_type": "code",
   "execution_count": 2,
   "metadata": {},
   "outputs": [
    {
     "data": {
      "text/plain": [
       "[<matplotlib.lines.Line2D at 0x1aa34cb9f28>]"
      ]
     },
     "execution_count": 2,
     "metadata": {},
     "output_type": "execute_result"
    },
    {
     "data": {
      "image/png": "[encoded data removed]",
      "text/plain": [
       "<Figure size 432x288 with 1 Axes>"
      ]
     },
     "metadata": {
      "needs_background": "light"
     },
     "output_type": "display_data"
    }
   ],
   "source": [
    "import matplotlib.pyplot as plt\n",
    "import numpy as np\n",
    "# legyen egy zajos sin fg\n",
    "num_of_pts=10000\n",
    "\n",
    "time=np.linspace(0,2*np.pi, num_of_pts)\n",
    "sign=np.sin(time)+0.05*np.sin(50*time) #a kód így nem egészen jó. módosítsátok úgy, hogy valóban \"szőrös\" legyen a jel!\n",
    "\n",
    "%matplotlib inline\n",
    "plt.plot(time, sign)"
   ]
  },
  {
   "cell_type": "code",
   "execution_count": 5,
   "metadata": {},
   "outputs": [
    {
     "name": "stdout",
     "output_type": "stream",
     "text": [
      "(8001,)\n"
     ]
    },
    {
     "data": {
      "image/png": "[encoded data removed]",
      "text/plain": [
       "<Figure size 432x288 with 1 Axes>"
      ]
     },
     "metadata": {
      "needs_background": "light"
     },
     "output_type": "display_data"
    }
   ],
   "source": [
    "kernel=np.ones(2000)\n",
    "kernel/=2000 #próbáljátok ki, hogy a kernel méretének változtatása hogy hat!\n",
    "\n",
    "moving_avg = np.convolve(sign, kernel, mode='valid')\n",
    "%matplotlib inline\n",
    "plt.plot(moving_avg)\n",
    "print(moving_avg.shape)"
   ]
  },
  {
   "cell_type": "markdown",
   "metadata": {},
   "source": [
    "## 2D Konvolúció és a képelemzés\n",
    "\n",
    "Nézzük meg, hogy hogyan lesz ugyanez az elképzelés hasznunkra a képeknél! Gondolkozzunk el egy kicsit, és próbáljunk definiálni egy olyan 2D konvolúciót, aminek az alkalmazása egy elmosott képet eredményez!"
   ]
  },
  {
   "cell_type": "code",
   "execution_count": 6,
   "metadata": {},
   "outputs": [],
   "source": [
    "import numpy as np\n",
    "import cv2\n",
    "\n",
    "\n",
    "#most kerítsünk elő egy képet\n",
    "img=cv2.imread('ballPit.jpg', 0)\n",
    "\n",
    "#kis downsampling, hogy elférjen a képernyőn\n",
    "img = img[::2, ::2]\n",
    "\n",
    "\n",
    "cv2.imshow('Szürkeárnyalatos', img)\n",
    "cv2.waitKey(0)\n",
    "cv2.destroyAllWindows()"
   ]
  },
  {
   "cell_type": "code",
   "execution_count": 7,
   "metadata": {
    "scrolled": true
   },
   "outputs": [
    {
     "name": "stdout",
     "output_type": "stream",
     "text": [
      "[[0.01 0.01 0.01 0.01 0.01 0.01 0.01 0.01 0.01 0.01]\n",
      " [0.01 0.01 0.01 0.01 0.01 0.01 0.01 0.01 0.01 0.01]\n",
      " [0.01 0.01 0.01 0.01 0.01 0.01 0.01 0.01 0.01 0.01]\n",
      " [0.01 0.01 0.01 0.01 0.01 0.01 0.01 0.01 0.01 0.01]\n",
      " [0.01 0.01 0.01 0.01 0.01 0.01 0.01 0.01 0.01 0.01]\n",
      " [0.01 0.01 0.01 0.01 0.01 0.01 0.01 0.01 0.01 0.01]\n",
      " [0.01 0.01 0.01 0.01 0.01 0.01 0.01 0.01 0.01 0.01]\n",
      " [0.01 0.01 0.01 0.01 0.01 0.01 0.01 0.01 0.01 0.01]\n",
      " [0.01 0.01 0.01 0.01 0.01 0.01 0.01 0.01 0.01 0.01]\n",
      " [0.01 0.01 0.01 0.01 0.01 0.01 0.01 0.01 0.01 0.01]]\n"
     ]
    }
   ],
   "source": [
    "#keressünk rá numpy convolve doksira - sajna ez csak 1D cuccosokat tud! Scipy segítségünkre lesz.\n",
    "from scipy import signal\n",
    "\n",
    "#definiáljuk a kernelt - legyen ez egy rakat float 1/n.\n",
    "kernel = np.ones((10,10))\n",
    "kernel = kernel/100\n",
    "print(kernel)\n",
    "\n",
    "blur = signal.convolve2d(np.asarray(img), kernel, boundary='symm', mode = 'same') #kipróbálni:  mode='full', boundary='fill', fillvalue=0\n",
    "blur = blur.astype('uint8')\n",
    "\n",
    "\n",
    "cv2.imshow('Szürkeárnyalatos', img)\n",
    "cv2.imshow('Szürkeárnyalatos - elmosva', blur)\n",
    "cv2.waitKey(0)\n",
    "cv2.destroyAllWindows()"
   ]
  },
  {
   "cell_type": "markdown",
   "metadata": {},
   "source": [
    "### Gauss kernel\n",
    "\n",
    "Aki dolgozott már Photoshop-al vagy GIMP-el, az biztosan látott már Gauss elmosást. Az előbb láttuk, hogy az elmosás megoldható konvolúcióval: miért kell akkor belekeverni Gausst is?"
   ]
  },
  {
   "cell_type": "code",
   "execution_count": 11,
   "metadata": {},
   "outputs": [],
   "source": [
    "#elmosás Gaussblur-el\n",
    "\n",
    "blur2 = cv2.GaussianBlur(img, (13,13), 0)\n",
    "\n",
    "cv2.imshow('GaussianBlur',blur2)\n",
    "cv2.waitKey(0)\n",
    "cv2.destroyAllWindows()"
   ]
  },
  {
   "cell_type": "code",
   "execution_count": 76,
   "metadata": {
    "scrolled": true
   },
   "outputs": [
    {
     "name": "stdout",
     "output_type": "stream",
     "text": [
      "[[0.0625]\n",
      " [0.25  ]\n",
      " [0.375 ]\n",
      " [0.25  ]\n",
      " [0.0625]]\n",
      "[[0.00390625 0.015625   0.0234375  0.015625   0.00390625]\n",
      " [0.015625   0.0625     0.09375    0.0625     0.015625  ]\n",
      " [0.0234375  0.09375    0.140625   0.09375    0.0234375 ]\n",
      " [0.015625   0.0625     0.09375    0.0625     0.015625  ]\n",
      " [0.00390625 0.015625   0.0234375  0.015625   0.00390625]]\n"
     ]
    }
   ],
   "source": [
    "#mi van benne, és miért dob hibát, ha páros számmal csinálnám? A válasz: Gauss-eloszlás!\n",
    "kernel = cv2.getGaussianKernel(5,0)\n",
    "#hogy lesz ebből mátrix?\n",
    "kernel2D = np.outer(kernel, kernel.T)\n",
    "print(kernel)\n",
    "print(kernel2D)"
   ]
  },
  {
   "cell_type": "markdown",
   "metadata": {},
   "source": [
    "## Keressünk éleket!\n",
    "\n",
    "A képfeldolgozásban egy nagyon gyakori kérdés, hogy hol van egy darab széle, például alkatrészek csoportosításánál. Hogyan tudjuk ezt megoldani az előbb bemutatott 2D konvolúció segítségével? Használjuk az élő kameránk képét!\n",
    "\n"
   ]
  },
  {
   "cell_type": "code",
   "execution_count": 17,
   "metadata": {},
   "outputs": [
    {
     "name": "stdout",
     "output_type": "stream",
     "text": [
      "[[-1 -1 -1]\n",
      " [-1  8 -1]\n",
      " [-1 -1 -1]]\n"
     ]
    }
   ],
   "source": [
    "import numpy as np\n",
    "import cv2\n",
    "import scipy.signal as signal\n",
    "\n",
    "cap = cv2.VideoCapture(0)\n",
    "\n",
    "while(True):\n",
    "    ret, frame = cap.read()\n",
    "    #szürkeárnyalatosra!\n",
    "    frame = cv2.cvtColor(frame, cv2.COLOR_BGR2GRAY)\n",
    "    \n",
    "    #downsample\n",
    "    #frame = frame[::2, ::2]\n",
    "    \n",
    "    #elmosás konvolúcióval\n",
    "    kernel = np.array([[-1,-1,-1],[-1,8,-1], [-1,-1,-1]])\n",
    "    #vízszintes élek\n",
    "    #np.array([[1,1,1],[0,0,0], [-1,-1,-1]])\n",
    "    #függőleges élek\n",
    "    #np.array([[1,0,-1],[1,0,-1], [1,0,-1]])\n",
    "    #átlós élek\n",
    "    #np.array([[1,0,-1],[0,0,0], [-1,0,1]])\n",
    "    #minen él\n",
    "    #np.array([[-1,-1,-1],[-1,8,-1], [-1,-1,-1]])\n",
    "    \n",
    "    kernel = kernel\n",
    "\n",
    "    blur = signal.convolve2d(np.asarray(frame), kernel, boundary='symm', mode = 'same') \n",
    "    blur = abs(blur)\n",
    "    blur = blur.astype('uint8')\n",
    "    \n",
    "    \n",
    "    cv2.imshow('frame',blur)\n",
    "    if cv2.waitKey(1) & 0xFF == ord('q'):\n",
    "        break\n",
    "        \n",
    "cap.release()\n",
    "cv2.destroyAllWindows()\n",
    "\n",
    "print(kernel)"
   ]
  },
  {
   "cell_type": "markdown",
   "metadata": {},
   "source": [
    "## Érdekesség: képek és a mozgás\n",
    "\n",
    "Nem csak \"statikusan\" nyerhetünk ki információt egy videó képkockáiból: a képkockákat egymással is összehasonlíthatjuk, hogy valamilyen fogalmunk lehessen a mozgásról pl. Tegyünk is így - viszgáljunk szürkeárnyalatok képkockák közötti különbséget! "
   ]
  },
  {
   "cell_type": "code",
   "execution_count": 9,
   "metadata": {},
   "outputs": [],
   "source": [
    "import numpy as np\n",
    "import cv2\n",
    "import time\n",
    "\n",
    "cap = cv2.VideoCapture(0)\n",
    "firstFrame = True\n",
    "while(True):\n",
    "    \n",
    "    ret, frame = cap.read()\n",
    "    #szürkeárnyalatos\n",
    "    frame = cv2.cvtColor(frame, cv2.COLOR_BGR2GRAY)\n",
    "    #valami nem oké? Mossuk el!\n",
    "    #frame = cv2.GaussianBlur(frame, (31,31),0)\n",
    "    frame = cv2.blur(frame, (15,15))\n",
    "    \n",
    "    if firstFrame:\n",
    "        prevFrame = frame\n",
    "        firstFrame = False\n",
    "    \n",
    "    diff = abs(frame.astype(np.int8)-prevFrame.astype(np.int8)) #\n",
    "    \n",
    "    prevFrame = frame\n",
    "    \n",
    "    cv2.imshow('frame',diff)\n",
    "    time.sleep(0.05) #lehet, hogy kellhet!\n",
    "    if cv2.waitKey(1) & 0xFF == ord('q'):\n",
    "        break\n",
    "        \n",
    "cap.release()\n",
    "cv2.destroyAllWindows()"
   ]
  }
 ],
 "metadata": {
  "kernelspec": {
   "display_name": "Python 3",
   "language": "python",
   "name": "python3"
  },
  "language_info": {
   "codemirror_mode": {
    "name": "ipython",
    "version": 3
   },
   "file_extension": ".py",
   "mimetype": "text/x-python",
   "name": "python",
   "nbconvert_exporter": "python",
   "pygments_lexer": "ipython3",
   "version": "3.7.3"
  }
 },
 "nbformat": 4,
 "nbformat_minor": 2
}
