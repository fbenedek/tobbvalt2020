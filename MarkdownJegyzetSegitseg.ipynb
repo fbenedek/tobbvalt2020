{
 "cells": [
  {
   "cell_type": "markdown",
   "metadata": {},
   "source": [
    "# Markdown jegyzet segítség\n",
    "\n",
    "\n",
    "LaTeX elérése dollárjellel:\n",
    "$a_b$\n",
    "\n",
    "Furabetű:\n",
    "$\\varphi$"
   ]
  },
  {
   "cell_type": "markdown",
   "metadata": {},
   "source": [
    "Mátrix: $\\begin{matrix} 1 & 2\\\\ 1 & 2 \\end{matrix}$"
   ]
  }
 ],
 "metadata": {
  "kernelspec": {
   "display_name": "Python 3",
   "language": "python",
   "name": "python3"
  },
  "language_info": {
   "codemirror_mode": {
    "name": "ipython",
    "version": 3
   },
   "file_extension": ".py",
   "mimetype": "text/x-python",
   "name": "python",
   "nbconvert_exporter": "python",
   "pygments_lexer": "ipython3",
   "version": "3.7.3"
  }
 },
 "nbformat": 4,
 "nbformat_minor": 2
}
